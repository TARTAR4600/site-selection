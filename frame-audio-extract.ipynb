{
 "cells": [
  {
   "cell_type": "markdown",
   "id": "5efeba03",
   "metadata": {},
   "source": [
    "导入包"
   ]
  },
  {
   "cell_type": "code",
   "execution_count": 1,
   "id": "9301f39d",
   "metadata": {},
   "outputs": [],
   "source": [
    "import cv2 \n",
    "#python -m pip install opencv-python\n",
    "# 或者\n",
    "#python -m pip install opencv-python-headless\n",
    "import os\n",
    "import subprocess"
   ]
  },
  {
   "cell_type": "markdown",
   "id": "2cf2bb09",
   "metadata": {},
   "source": [
    "这一部分是定位视频元素的代码"
   ]
  },
  {
   "cell_type": "code",
   "execution_count": 6,
   "id": "c1757a25",
   "metadata": {},
   "outputs": [
    {
     "name": "stdout",
     "output_type": "stream",
     "text": [
      "请点击想要的点 (Esc 退出)，终端会输出对应原始坐标。\n",
      "Display=(3,72) → Original=(9,230)\n",
      "Display=(334,145) → Original=(1068,464)\n",
      "所有点击的原始坐标： [(9, 230), (1068, 464)]\n"
     ]
    }
   ],
   "source": [
    "\n",
    "\n",
    "# ——配置区——\n",
    "VIDEO_PATH = \"Douyin-videos/60万开的稀烂.mp4\"\n",
    "TIME_SEC   = 2     # 截第 2 秒那一帧，改成你的视频确实有的时间点\n",
    "MAX_W, MAX_H = 800, 600   # 窗口最大尺寸\n",
    "\n",
    "# 全局：存原始坐标\n",
    "orig_points = []\n",
    "\n",
    "def on_mouse(event, x, y, flags, param):\n",
    "    if event == cv2.EVENT_LBUTTONDOWN:\n",
    "        scale = param['scale']\n",
    "        ox = int(x/scale); oy = int(y/scale)\n",
    "        print(f\"Display=({x},{y}) → Original=({ox},{oy})\")\n",
    "        orig_points.append((ox, oy))\n",
    "\n",
    "# 1. 读一帧\n",
    "cap = cv2.VideoCapture(VIDEO_PATH)\n",
    "fps = cap.get(cv2.CAP_PROP_FPS)\n",
    "cap.set(cv2.CAP_PROP_POS_FRAMES, TIME_SEC * fps)\n",
    "ret, frame = cap.read()\n",
    "cap.release()\n",
    "if not ret:\n",
    "    raise RuntimeError(\"读帧失败，请检查 TIME_SEC 和 VIDEO_PATH\")\n",
    "\n",
    "# 2. 先按比例缩到不超过 MAX_W×MAX_H\n",
    "h, w = frame.shape[:2]\n",
    "scale = min(MAX_W/w, MAX_H/h, 1.0)\n",
    "display = cv2.resize(frame, (int(w*scale), int(h*scale)))\n",
    "\n",
    "# 3. 创建可缩放窗口并绑定回调\n",
    "cv2.namedWindow(\"pick-point\", cv2.WINDOW_NORMAL)\n",
    "cv2.resizeWindow(\"pick-point\", int(w*scale), int(h*scale))\n",
    "cv2.setMouseCallback(\"pick-point\", on_mouse, {'scale': scale})\n",
    "\n",
    "print(\"请点击想要的点 (Esc 退出)，终端会输出对应原始坐标。\")\n",
    "while True:\n",
    "    cv2.imshow(\"pick-point\", display)\n",
    "    if cv2.waitKey(1) & 0xFF == 27:  # Esc\n",
    "        break\n",
    "\n",
    "cv2.destroyAllWindows()\n",
    "print(\"所有点击的原始坐标：\", orig_points)\n"
   ]
  },
  {
   "cell_type": "markdown",
   "id": "36afab56",
   "metadata": {},
   "source": [
    "划分分割区域"
   ]
  },
  {
   "cell_type": "code",
   "execution_count": 8,
   "id": "019c20e6",
   "metadata": {},
   "outputs": [
    {
     "name": "stdout",
     "output_type": "stream",
     "text": [
      "Extracted title frame? True, plus 30 other frames to rois\n"
     ]
    }
   ],
   "source": [
    "def crop_and_extract_frames(\n",
    "    video_path: str,\n",
    "    output_dir: str,\n",
    "    crop_region: tuple,\n",
    "    frame_interval: int = 30,\n",
    "    title_region: tuple = None\n",
    "):\n",
    "    \"\"\"\n",
    "    Crop a specific region from a video and extract frames.\n",
    "    Additionally, extract the title_region once at t=1s.\n",
    "\n",
    "    :param video_path: Path to the input video file.\n",
    "    :param output_dir: Directory to save cropped frames.\n",
    "    :param crop_region: Tuple (x, y, w, h) for the main ROI.\n",
    "    :param frame_interval: Extract one frame every `frame_interval` frames.\n",
    "    :param title_region: Tuple (x, y, w, h) for title area; if provided,\n",
    "                         extract that region once at the 1s mark.\n",
    "    \"\"\"\n",
    "    os.makedirs(output_dir, exist_ok=True)\n",
    "    cap = cv2.VideoCapture(video_path)\n",
    "    if not cap.isOpened():\n",
    "        raise FileNotFoundError(f\"Cannot open video: {video_path}\")\n",
    "\n",
    "    fps = cap.get(cv2.CAP_PROP_FPS)\n",
    "    title_frame_idx = int(fps * 1)  # 第一秒对应的帧数\n",
    "    title_saved = False\n",
    "\n",
    "    frame_count = 0\n",
    "    saved_count = 0\n",
    "\n",
    "    while True:\n",
    "        ret, frame = cap.read()\n",
    "        if not ret:\n",
    "            break\n",
    "\n",
    "        # —— 在第一秒时刻，单独提取标题区域 —— \n",
    "        if title_region and not title_saved and frame_count == title_frame_idx:\n",
    "            x_t, y_t, w_t, h_t = title_region\n",
    "            title_crop = frame[y_t:y_t+h_t, x_t:x_t+w_t]\n",
    "            cv2.imwrite(\n",
    "                os.path.join(output_dir, \"title_frame.jpg\"),\n",
    "                title_crop\n",
    "            )\n",
    "            title_saved = True\n",
    "\n",
    "        # —— 按间隔提取其他 ROI 帧 —— \n",
    "        if frame_count % frame_interval == 0:\n",
    "            x, y, w, h = crop_region\n",
    "            cropped = frame[y:y+h, x:x+w]\n",
    "            fname = os.path.join(output_dir, f\"frame_{saved_count:04d}.jpg\")\n",
    "            cv2.imwrite(fname, cropped)\n",
    "            saved_count += 1\n",
    "\n",
    "        frame_count += 1\n",
    "\n",
    "    cap.release()\n",
    "    print(f\"Extracted title frame? {title_saved}, plus {saved_count} other frames to {output_dir}\")\n",
    "\n",
    "\n",
    "# —— 使用示例 —— \n",
    "crop_and_extract_frames(\n",
    "    video_path=\"Douyin-videos/60万开的稀烂.mp4\",\n",
    "    output_dir=\"rois\",\n",
    "    crop_region=(540,469,1079,1428),   # 后续帧要裁的那个区域\n",
    "    frame_interval=300,                  # 每隔 30 帧抽一次\n",
    "    title_region=(9, 230, 1079, 464)     # 只在 t=1s 提取的标题区域\n",
    ")\n"
   ]
  },
  {
   "cell_type": "code",
   "execution_count": 5,
   "id": "d455188a",
   "metadata": {},
   "outputs": [
    {
     "name": "stdout",
     "output_type": "stream",
     "text": [
      "Extracted audio to: audio-output\\60万开的稀烂.wav\n"
     ]
    }
   ],
   "source": [
    "def extract_audio_same_name(\n",
    "    video_path: str,\n",
    "    start_time: str = None,\n",
    "    duration: str = None,\n",
    "    sample_rate: int = 16000,\n",
    "    channels: int = 1\n",
    "):\n",
    "    \"\"\"\n",
    "    Extract audio from a video and save it with the same base filename.\n",
    "\n",
    "    :param video_path: Path to the input video file.\n",
    "    :param start_time: Optional start time (\"HH:MM:SS\" or seconds).\n",
    "    :param duration: Optional duration to extract (\"SS\" or \"HH:MM:SS\").\n",
    "    :param sample_rate: Output audio sample rate (default 16000 Hz).\n",
    "    :param channels: Number of audio channels (default mono).\n",
    "    \"\"\"\n",
    "    # Determine output audio path by replacing extension\n",
    "    base, _ = os.path.splitext(video_path)\n",
    "    output_dir = \"audio-output\"\n",
    "    os.makedirs(output_dir, exist_ok=True)\n",
    "    base_name = os.path.splitext(os.path.basename(video_path))[0]\n",
    "    audio_path = os.path.join(output_dir, f\"{base_name}.wav\")\n",
    "\n",
    "    # Build ffmpeg command\n",
    "    cmd = [\"ffmpeg\", \"-y\", \"-i\", video_path]\n",
    "    if start_time:\n",
    "        cmd += [\"-ss\", str(start_time)]\n",
    "    if duration:\n",
    "        cmd += [\"-t\", str(duration)]\n",
    "    cmd += [\n",
    "        \"-vn\",\n",
    "        \"-acodec\", \"pcm_s16le\",\n",
    "        \"-ar\", str(sample_rate),\n",
    "        \"-ac\", str(channels),\n",
    "        audio_path\n",
    "    ]\n",
    "\n",
    "    # Run ffmpeg\n",
    "    subprocess.run(cmd, check=True)\n",
    "    print(f\"Extracted audio to: {audio_path}\")\n",
    "\n",
    "# 示例调用：与视频同名输出音频\n",
    "extract_audio_same_name(\"Douyin-videos/60万开的稀烂.mp4\")\n",
    "\n"
   ]
  }
 ],
 "metadata": {
  "kernelspec": {
   "display_name": "Python 3",
   "language": "python",
   "name": "python3"
  },
  "language_info": {
   "codemirror_mode": {
    "name": "ipython",
    "version": 3
   },
   "file_extension": ".py",
   "mimetype": "text/x-python",
   "name": "python",
   "nbconvert_exporter": "python",
   "pygments_lexer": "ipython3",
   "version": "3.13.0"
  }
 },
 "nbformat": 4,
 "nbformat_minor": 5
}
